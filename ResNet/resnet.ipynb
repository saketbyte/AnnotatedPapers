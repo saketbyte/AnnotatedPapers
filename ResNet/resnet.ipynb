{
 "cells": [
  {
   "cell_type": "code",
   "execution_count": 1,
   "metadata": {},
   "outputs": [],
   "source": [
    "import torch\n",
    "import torch.nn as nn"
   ]
  },
  {
   "cell_type": "code",
   "execution_count": null,
   "metadata": {},
   "outputs": [],
   "source": [
    "# making a block that will be utilized later on\n",
    "\n",
    "class block(nn.Module):\n",
    "    \n",
    "    def __init__(self, in_channels, out_channels, identity_downsample = None, stride = 1):\n",
    "        super(block,self).__init()\n",
    "        self.expansion = 4\n",
    "        \n",
    "        self.conv1 = nn.Conv2d(in_channels, out_channels, kernel_size =1, stride = 1, padding = 0)\n",
    "        self.bn1 = nn.BatchNorm2d(out_channels)\n",
    "        \n",
    "        self.conv2 = nn.Conv2d(out_channels, out_channels, kernel_size =1, stride = 1, padding = 0)\n",
    "        self.bn2 = nn.BatchNorm2d(out_channels)\n",
    "        \n",
    "        self.conv3 = nn.Conv2d(out_channels, out_Channels* self.expansion, kernel_size = 1, stride = 1, padding =0)\n",
    "        self.bn3 = nn.BatchNorm2d(out_channels *self.expansion)\n",
    "        \n",
    "        self.relu - nn.ReLU()     \n",
    "        \n",
    "        self.identity_downsample = identity_downsample\n",
    "             \n",
    "    "
   ]
  },
  {
   "cell_type": "code",
   "execution_count": null,
   "metadata": {},
   "outputs": [],
   "source": [
    "# Forward Propagation\n",
    "\n",
    "def forward(self,x):\n",
    "        \n",
    "        identity = x\n",
    "        \n",
    "        x = self.conv1(x)\n",
    "        x = self.bn1(x)\n",
    "        x = self.relu(x)\n",
    "        x = self.conv2(x)\n",
    "        x = self.bn2(x)\n",
    "        x = self.relu(x)\n",
    "        x = self.conv3(x)\n",
    "        x = self.bn3(x)\n",
    "        \n",
    "        # this step is to match the sizes before adding identity function\n",
    "        if self.identity_downsample is not None:\n",
    "            identity = self.identity_downsample(identity)\n",
    "            \n",
    "        x += identity\n",
    "        x = self.relu(x)\n",
    "        \n",
    "        return x\n",
    "            "
   ]
  },
  {
   "cell_type": "code",
   "execution_count": null,
   "metadata": {},
   "outputs": [],
   "source": [
    "# ResNet class\n",
    "\n",
    "class ResNet(nn.Module):\n",
    "    def __init__(self, block, layers, image_channels, num_classes):\n",
    "        \n",
    "        super(ResNet, self).__init__()\n",
    "        self.in_channels = 64\n",
    "        \n",
    "        self.conv1 = nn.Conv2d(image_channels, 64, kernel_size = 7, stride = 2, padding = 3)\n",
    "        \n",
    "        self.bn1 = nn.BatchNorm2d(64)\n",
    "        self.relu = nn.ReLu()\n",
    "        self.maxpool = nn.MaxPool2d(kernel_size = 3. stride = 2, padding = 1 )\n",
    "        \n",
    "        \n",
    "        \n",
    "    def _make_layer(self, block, num_residual_blocks, out_channels, stride):\n",
    "        identity_downsample = None\n",
    "        \n",
    "        layers = []\n",
    "        \n",
    "        \n",
    "        if stride != 1 or self.in_channels != self.out_channels *4:\n",
    "            identity_downsample = nn.Sequential(nn.conv2d(self.in_channels, out_channels *4. kernel_size = 1, stride = 2),\n",
    "                                                nn.BatchNorm2d(out_channels * 4))\n",
    "            \n",
    "        layers.append(block(self.in_channels, out_channels, identity_downsample, stride))\n",
    "        self.in_channels = out_channels* 4\n",
    "        \n",
    "        \n",
    "        for i in range(num_residual_blocks -1):\n",
    "            layers.appen(block(self.in_channels, out_channels))\n",
    "            \n",
    "        \n",
    "        \n",
    "        return nn.Sequential(*layers)\n",
    "            \n",
    "            \n",
    "        \n"
   ]
  }
 ],
 "metadata": {
  "interpreter": {
   "hash": "1ff6f545b476b556f4a01501d4cc562f379ecc19ab7cf097efe41cb9b95e9c20"
  },
  "kernelspec": {
   "display_name": "Python 3.8.8 64-bit (conda)",
   "name": "python3"
  },
  "language_info": {
   "codemirror_mode": {
    "name": "ipython",
    "version": 3
   },
   "file_extension": ".py",
   "mimetype": "text/x-python",
   "name": "python",
   "nbconvert_exporter": "python",
   "pygments_lexer": "ipython3",
   "version": "3.8.8"
  },
  "orig_nbformat": 4
 },
 "nbformat": 4,
 "nbformat_minor": 2
}
